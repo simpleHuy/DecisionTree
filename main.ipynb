{
 "cells": [
  {
   "cell_type": "markdown",
   "id": "4262289d",
   "metadata": {},
   "source": [
    "## Main content"
   ]
  },
  {
   "cell_type": "code",
   "execution_count": null,
   "id": "708b2370",
   "metadata": {},
   "outputs": [],
   "source": [
    "# Code"
   ]
  }
 ],
 "metadata": {
  "language_info": {
   "name": "python"
  }
 },
 "nbformat": 4,
 "nbformat_minor": 5
}
