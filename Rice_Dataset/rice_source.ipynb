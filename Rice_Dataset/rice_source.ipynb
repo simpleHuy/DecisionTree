{
 "cells": [
  {
   "cell_type": "markdown",
   "id": "1ed1ab16-20f7-44c5-913e-b7d7a77eb52c",
   "metadata": {},
   "source": [
    "### **1 Chuẩn bị tập dữ liệu**"
   ]
  },
  {
   "cell_type": "markdown",
   "id": "bf1e993a-fa8f-4502-82f8-131b437c9fbb",
   "metadata": {},
   "source": [
    "#### Thêm các thư viện cần thiết"
   ]
  },
  {
   "cell_type": "code",
   "execution_count": 4,
   "id": "ac6c7b8d-c3e4-4b73-91b5-3603d3f924ca",
   "metadata": {},
   "outputs": [],
   "source": [
    "# Xử lý và tính toán số học, ma trận\n",
    "import numpy as np\n",
    "\n",
    "# Xử lý và phân tích dữ liệu dạng bảng\n",
    "import pandas as pd\n",
    "\n",
    "# Vẽ đồ thị, biểu đồ cơ bản\n",
    "import matplotlib.pyplot as plt\n",
    "\n",
    "# Chia dữ liệu thành tập huấn luyện và kiểm thử\n",
    "from sklearn.model_selection import train_test_split\n",
    "\n",
    "# Triển khai thuật toán cây quyết định (Decision Tree)\n",
    "from sklearn.tree import DecisionTreeClassifier, export_graphviz\n",
    "\n",
    "# Chuẩn hóa dữ liệu (z-score standardization)\n",
    "from sklearn.preprocessing import StandardScaler\n",
    "\n",
    "# Đánh giá mô hình với các chỉ số phổ biến\n",
    "from sklearn.metrics import classification_report, confusion_matrix, accuracy_score\n",
    "\n",
    "# Vẽ biểu đồ nâng cao và trực quan hóa\n",
    "import seaborn as sns\n",
    "\n",
    "# Đếm số lượng phần tử trong danh sách hoặc chuỗi\n",
    "from collections import Counter\n",
    "\n",
    "# Trực quan hóa cây quyết định dưới dạng đồ thị\n",
    "import graphviz\n",
    "\n",
    "# Hiển thị trực tiếp các đối tượng trong Jupyter Notebook\n",
    "from IPython.display import display, Image, SVG\n",
    "\n",
    "# Tương tác với hệ thống tệp\n",
    "import os\n",
    "\n",
    "import warnings\n",
    "\n",
    "import re"
   ]
  },
  {
   "cell_type": "code",
   "execution_count": null,
   "id": "517b7248-55aa-46df-9bea-ba3a0b7ed6cc",
   "metadata": {},
   "outputs": [],
   "source": [
    "pd.set_option('display.max_columns', None)\n",
    "column_names = ['Area','Perimeter','Major_Axis_Length','Minor_Axis_Length','Eccentricity','Convex_Area','Extent','Class']\n",
    "df = pd.read_csv('Rice_Cammeo_Osmancik.csv', names=column_names)\n",
    "df"
   ]
  },
  {
   "cell_type": "markdown",
   "id": "18b097e8-89e5-43a2-967e-882ecca241de",
   "metadata": {},
   "source": [
    "#### **1.1 Tiền xử lý dữ liệu**"
   ]
  },
  {
   "cell_type": "markdown",
   "id": "3b449db6-a61f-41ae-a11f-bbb39cf2399a",
   "metadata": {},
   "source": [
    "#### Kiểm tra thông tin các đặc trưng có trong tập dữ liệu"
   ]
  },
  {
   "cell_type": "code",
   "execution_count": null,
   "id": "7b53c62f-b6a5-45e0-b5ef-d62e577f9679",
   "metadata": {},
   "outputs": [],
   "source": [
    "print(df.info())"
   ]
  },
  {
   "cell_type": "markdown",
   "id": "e0769656-af32-46c3-8169-54635dbfec50",
   "metadata": {},
   "source": [
    "Do không có dòng nào trống nên không cần fill"
   ]
  },
  {
   "cell_type": "markdown",
   "id": "401efd8e-edae-4224-b65c-b6af2e841f57",
   "metadata": {},
   "source": [
    "#### **1.2 Chia dữ liệu theo tỷ lệ**"
   ]
  },
  {
   "cell_type": "markdown",
   "id": "e1fe2fb3-a2c3-43ea-818e-3dc2fd8b3390",
   "metadata": {},
   "source": [
    "#### Chuẩn bị các đặc trưng và mục tiêu"
   ]
  },
  {
   "cell_type": "code",
   "execution_count": 7,
   "id": "5f1438e9-6f67-41b4-bd7b-9d1e061aa44b",
   "metadata": {},
   "outputs": [],
   "source": [
    "# Các tỷ lệ chia tập huấn luyện/kiểm trap\n",
    "proportions = [0.4, 0.6, 0.8, 0.9]\n",
    "\n",
    "# Features\n",
    "features = df.drop(columns=['Class'])\n",
    "\n",
    "feature_names = features.columns.to_list()\n",
    "\n",
    "# Label\n",
    "label = df['Class']\n",
    "\n",
    "# Random state\n",
    "random_state = 42"
   ]
  },
  {
   "cell_type": "markdown",
   "id": "8326741f-4669-48dd-be13-41de41a7d632",
   "metadata": {},
   "source": [
    "#### Viết hàm `stratified_split` để phân chia chia dữ liệu theo tỷ"
   ]
  },
  {
   "cell_type": "code",
   "execution_count": 8,
   "id": "59fc8888-8c54-40dc-aa05-72fd34feaf3c",
   "metadata": {},
   "outputs": [],
   "source": [
    "def stratified_split(X, y, train_size, random_state=42):\n",
    "    \"\"\"\n",
    "    Chia dữ liệu theo kiểu phân tầng.\n",
    "    \n",
    "    Parameters:\n",
    "    - X: Dữ liệu đầu vào (features)\n",
    "    - y: Nhãn (labels)\n",
    "    - test_size: Tỷ lệ dữ liệu test\n",
    "    - random_state: Giá trị seed để tái tạo\n",
    "    \n",
    "    Returns:\n",
    "    - feature_train, feature_test, label_train, label_test: Dữ liệu sau khi chia\n",
    "    \"\"\"\n",
    "    test_size = 1 - train_size\n",
    "    X_train, X_test, y_train, y_test = train_test_split(\n",
    "        X, y, test_size=test_size, stratify=y, random_state=random_state\n",
    "    )\n",
    "    return X_train, X_test, y_train, y_test"
   ]
  },
  {
   "cell_type": "markdown",
   "id": "d4be5efa-295f-4a1a-94f8-307f3098c4ed",
   "metadata": {},
   "source": [
    "#### Viết hàm `visualize_train_test_distribution` để trực quan hóa các tập dữ liệu sau khi chia"
   ]
  },
  {
   "cell_type": "code",
   "execution_count": 27,
   "id": "514833c7-60e5-4a62-bd76-4b8853bf8a99",
   "metadata": {},
   "outputs": [],
   "source": [
    "def visualize_train_test_distribution(y, y_train, y_test, train_size):\n",
    "    fig, axes = plt.subplots(1, 3, figsize=(15, 7), sharey=True)\n",
    "    \n",
    "    classes = ['Cammeo', 'Osmancik']\n",
    "    \n",
    "    # Phân phối gốc\n",
    "    original_counts = [Counter(y)[ele] for ele in classes]\n",
    "    axes[0].bar(classes, original_counts)\n",
    "    axes[0].set_title('Original Dataset')\n",
    "    axes[0].set_ylabel('Count')\n",
    "    for i, count in enumerate(original_counts):\n",
    "        axes[0].text(i, count + 1, str(count), ha='center', va='bottom', fontsize=15)\n",
    "\n",
    "    # Phân phối tập train\n",
    "    train_counts = [Counter(y_train)[ele] for ele in classes]\n",
    "    axes[1].bar(classes, train_counts)\n",
    "    axes[1].set_title(f'Training Set ({int(round(train_size, 2)* 100)}%)')\n",
    "    for i, count in enumerate(train_counts):\n",
    "        axes[1].text(i, count + 1, str(count), ha='center', va='bottom', fontsize=15)\n",
    "\n",
    "    # Phân phối tập test\n",
    "    test_counts = [Counter(y_test)[ele] for ele in classes]\n",
    "    axes[2].bar(classes, test_counts)\n",
    "    axes[2].set_title(f'Test Set ({int(round((1 - train_size), 2) * 100)}%)')\n",
    "    for i, count in enumerate(test_counts):\n",
    "        axes[2].text(i, count + 1, str(count), ha='center', va='bottom', fontsize=15)\n",
    "\n",
    "    plt.tight_layout()\n",
    "    os.makedirs('./output/split', exist_ok=True)\n",
    "    plt.savefig(f'./output/split/train_test_{int(train_size*100)}_{int(round(1 - train_size, 2) * 100)}.pdf', format='pdf', bbox_inches='tight')\n",
    "    plt.show()"
   ]
  },
  {
   "cell_type": "markdown",
   "id": "64ef53d0-8bc1-4da4-98b5-9d760fa71af2",
   "metadata": {},
   "source": [
    "#### Thực hiện việc chia dữ liệu và trực quan hóa theo các tỷ lệ nhất định"
   ]
  },
  {
   "cell_type": "code",
   "execution_count": null,
   "id": "cbfedd22-bc26-4873-8050-228ac9fd8b5f",
   "metadata": {},
   "outputs": [],
   "source": [
    "split_train_test = {}  # Dùng để lưu các tập sau khi chia\n",
    "for train_size in proportions:\n",
    "    feature_train, feature_test, label_train, label_test = stratified_split(features,label, train_size, random_state)\n",
    "    visualize_train_test_distribution(label, label_train, label_test, train_size)\n",
    "    split_train_test[train_size] = {\n",
    "        'feature_train': feature_train,\n",
    "        'label_train': label_train,\n",
    "        'feature_test': feature_test,\n",
    "        'label_test': label_test\n",
    "    }"
   ]
  },
  {
   "cell_type": "markdown",
   "id": "e1fbfe08-81c6-42d6-bcd6-ccdc2e7dedb4",
   "metadata": {},
   "source": [
    "## **2 Xây dựng decision tree classifiers**"
   ]
  },
  {
   "cell_type": "code",
   "execution_count": null,
   "id": "7b856140-b183-45f3-9b10-11197192da82",
   "metadata": {},
   "outputs": [],
   "source": [
    "decision_trees = {}  # Lưu các cây quyết định theo tỷ lệ train/test\n",
    "\n",
    "for train_size in proportions:\n",
    "    print(f\"\\n--- Train/Test Split: {int(train_size*100)}/{int(round(1-train_size, 2)*100)} ---\")\n",
    "\n",
    "    # Truy xuất dữ liệu đã chia\n",
    "    X_train = split_train_test[train_size]['feature_train']\n",
    "    X_test = split_train_test[train_size]['feature_test']\n",
    "    y_train = split_train_test[train_size]['label_train']\n",
    "    y_test = split_train_test[train_size]['label_test']\n",
    "\n",
    "    # Huấn luyện cây quyết định\n",
    "    clf = DecisionTreeClassifier(criterion='entropy', random_state=42)\n",
    "    clf.fit(X_train, y_train)\n",
    "\n",
    "    # Lưu cây\n",
    "    decision_trees[train_size] = clf\n",
    "\n",
    "    # Xuất ra .dot\n",
    "    dot_data = export_graphviz(\n",
    "        clf,\n",
    "        out_file=None,\n",
    "        feature_names=feature_names,\n",
    "        class_names=[str(cls) for cls in clf.classes_],\n",
    "        filled=True,\n",
    "        rounded=True,\n",
    "        special_characters=True\n",
    "    )\n",
    "\n",
    "    header = f\"\"\"\n",
    "    label=\"Decision Tree (Train Size = {int(train_size * 100)}%, Test Size = {int(round(1 - train_size, 2) * 100)}%)\";\n",
    "    labelloc=t;\n",
    "    fontsize=20;\n",
    "    fontname=\"Arial\";\n",
    "    node [fontname=\"Arial\"];\n",
    "    edge [fontname=\"Arial\"];\n",
    "    \"\"\".strip()\n",
    "\n",
    "    lines = dot_data.split('\\n')\n",
    "    if lines[0].startswith('digraph'):\n",
    "        lines.insert(1, header)\n",
    "\n",
    "    modified_dot_data = '\\n'.join(lines)\n",
    "\n",
    "    # Tạo Source từ DOT\n",
    "    graph = graphviz.Source(modified_dot_data, format=\"svg\")\n",
    "\n",
    "    # Hiển thị SVG\n",
    "    svg = graph.pipe(format='svg').decode('utf-8')\n",
    "    display(SVG(svg))\n",
    "\n",
    "    # Tạo thư mục lưu\n",
    "    os.makedirs('./output/decision_tree', exist_ok=True)\n",
    "\n",
    "    # Lưu PDF\n",
    "    base_filename = f\"./output/decision_tree/decision_tree_{int(train_size*100)}_{int(round(1 - train_size, 2) * 100)}\"\n",
    "    graph.render(filename=base_filename, format='pdf', cleanup=True, view=False)"
   ]
  },
  {
   "cell_type": "markdown",
   "id": "a9be0020-b0dd-40c8-894f-7f199eb862b2",
   "metadata": {},
   "source": [
    "### **3 Đánh giá bộ phân loại cây quyết định**"
   ]
  },
  {
   "cell_type": "code",
   "execution_count": null,
   "id": "779da165-975c-4869-85bd-edd847bc9fb1",
   "metadata": {},
   "outputs": [],
   "source": [
    "for train_size in proportions:\n",
    "    # Truy xuất các tập dữ liệu đã chia theo tỷ lệ\n",
    "    X_train = split_train_test[train_size]['feature_train']\n",
    "    X_test = split_train_test[train_size]['feature_test']\n",
    "    y_train = split_train_test[train_size]['label_train']\n",
    "    y_test = split_train_test[train_size]['label_test']\n",
    "\n",
    "    # Lấy ra các decision_trees đã lưu\n",
    "    clf = decision_trees[train_size]\n",
    "    \n",
    "    # Dự đoán trên tập dữ liệu mẫu\n",
    "    y_pred = clf.predict(X_test)\n",
    "    \n",
    "    # Tạo Classification Report\n",
    "    print(f\"Classification Report (Train={int(train_size * 100)}%, Test={int(round((1 - train_size), 2) * 100)}%)\")\n",
    "    print(classification_report(y_test, y_pred, target_names=[str(x) for x in clf.classes_]))\n",
    "    \n",
    "    # Tạo Confusion Matrix\n",
    "    cm = confusion_matrix(y_test, y_pred, labels=clf.classes_)\n",
    "    print(f\"Confusion Matrix (Train={int(train_size * 100)}%, Test={int(round((1 - train_size), 2) * 100)}%)\")\n",
    "    \n",
    "    # Trực quan hóa Confusion Matrix\n",
    "    plt.figure(figsize=(8, 6))\n",
    "    sns.heatmap(cm, annot=True, fmt='d', cmap='Blues', xticklabels=clf.classes_, yticklabels=clf.classes_)\n",
    "    plt.title(f\"Confusion Matrix (Train={int(train_size * 100)}%, Test={int(round((1 - train_size), 2) * 100)}%)\")\n",
    "    plt.xlabel(\"Predicted Labels\")\n",
    "    plt.ylabel(\"True Labels\")\n",
    "\n",
    "    # Lưu ảnh\n",
    "    os.makedirs('./output/confusion_matrix', exist_ok=True)\n",
    "    plt.savefig(f'./output/confusion_matrix/confusion_matrix_{int(train_size*100)}_{int(round(1 - train_size, 2) * 100)}.pdf', format='pdf', bbox_inches='tight')\n",
    "    plt.show()\n",
    "    print('-' * 100)"
   ]
  },
  {
   "cell_type": "markdown",
   "id": "af8ee551-9fdc-44d1-a340-8cbc83dc9561",
   "metadata": {},
   "source": [
    "### **4 Độ sâu và độ chính xác của cây quyết định**"
   ]
  },
  {
   "cell_type": "code",
   "execution_count": null,
   "id": "2fcc86e3-78ec-40b5-8705-ad7ee12a30a2",
   "metadata": {},
   "outputs": [],
   "source": [
    "# Lấy dữ liệu từ tập 80% train\n",
    "X_train = split_train_test[0.8]['feature_train']\n",
    "X_test = split_train_test[0.8]['feature_test']\n",
    "y_train = split_train_test[0.8]['label_train']\n",
    "y_test = split_train_test[0.8]['label_test']\n",
    "\n",
    "# Khởi tạo danh sách để lưu trữ độ chính xác của các mô hình\n",
    "depths = [None, 2, 3, 4, 5, 6, 7]  # Danh sách các giá trị max_depth cho cây quyết định\n",
    "\n",
    "accuracies = []  # Danh sách lưu trữ độ chính xác của mỗi mô hình\n",
    "\n",
    "# Tạo biểu đồ cây quyết định dưới dạng SVG cho mỗi max_depth\n",
    "for max_depth in depths:\n",
    "    # Khởi tạo cây quyết định với max_depth cụ thể\n",
    "    clf = DecisionTreeClassifier(criterion='entropy', max_depth=max_depth, random_state=42)\n",
    "    \n",
    "    # Huấn luyện mô hình với dữ liệu huấn luyện\n",
    "    clf.fit(X_train, y_train)\n",
    "    \n",
    "    # Dự đoán trên tập kiểm tra\n",
    "    y_pred = clf.predict(X_test)\n",
    "    \n",
    "    # Tính toán độ chính xác\n",
    "    accuracy = accuracy_score(y_test, y_pred)\n",
    "    accuracies.append(accuracy)\n",
    "    \n",
    "    # In ra thông báo về max_depth\n",
    "    print(\"-\" * 100)\n",
    "    print(f\"\\nDecision Tree with max_depth = {max_depth}\")\n",
    "    \n",
    "    # Xuất cây quyết định dưới dạng đồ họa SVG\n",
    "    dot_data = export_graphviz(\n",
    "        clf, \n",
    "        feature_names=feature_names,\n",
    "        class_names=[str(cls) for cls in clf.classes_],\n",
    "        filled=True, \n",
    "        rounded=True,  \n",
    "        special_characters=True\n",
    "    )\n",
    "    \n",
    "    # Sửa đổi chuỗi dot để thêm tiêu đề\n",
    "    modified_dot_data = dot_data.replace(\n",
    "        'digraph Tree {', \n",
    "        f'digraph Tree {{\\n\\tlabel=\"Decision Tree (Train= 80%, Test= 20%, max_depth= {max_depth})\"\\n\\tfontsize=20\\n\\tlabelloc=t'\n",
    "    )\n",
    "    \n",
    "    # Tạo Source với dữ liệu đã sửa đổi\n",
    "    graph = graphviz.Source(modified_dot_data, format=\"svg\")\n",
    "    \n",
    "    # Render ra SVG\n",
    "    svg = graph.pipe(format='svg').decode('utf-8')\n",
    "    display(SVG(svg))\n",
    "\n",
    "    # Lưu ảnh\n",
    "    os.makedirs('./output/decision_tree_depth', exist_ok=True)\n",
    "    pdf_filename = f\"./output/decision_tree_depth/decision_tree_max_depth_{max_depth}_80_20\"\n",
    "    graph.render(filename=pdf_filename, format='pdf', cleanup=True, view=False)\n",
    "\n",
    "\n",
    "# Tạo bảng kết quả độ chính xác cho các giá trị max_depth\n",
    "fig, ax = plt.subplots(figsize=(10, 2))\n",
    "ax.axis('tight')\n",
    "ax.axis('off')\n",
    "table_data = [[\"max_depth\"] + [str(d) for d in depths], [\"Accuracy\"] + [f\"{acc:.4f}\" for acc in accuracies]]\n",
    "table = ax.table(cellText=table_data, loc='center', cellLoc='center')\n",
    "plt.title('Accuracy Scores for Different max_depth Values', fontsize=14, pad=20)\n",
    "plt.savefig(f'./output/table.pdf', format='pdf', bbox_inches='tight')\n",
    "plt.show()\n",
    "\n",
    "# Vẽ đồ thị độ chính xác so với max_depth\n",
    "plt.figure(figsize=(10, 6))\n",
    "plt.plot([str(d) for d in depths], accuracies, marker='o', linestyle='-', color='b')\n",
    "plt.xlabel('max_depth')  # Nhãn trục x\n",
    "plt.ylabel('Accuracy')  # Nhãn trục y\n",
    "plt.title('Effect of max_depth on Decision Tree Accuracy')  # Tiêu đề đồ thị\n",
    "plt.grid(True)  # Hiển thị lưới\n",
    "\n",
    "# Lưu ảnh\n",
    "plt.savefig(f'./output/line_chart_effect_of_max_depth.pdf', format='pdf', bbox_inches='tight')\n",
    "\n",
    "plt.show()  # Hiển thị đồ thị"
   ]
  }
 ],
 "metadata": {
  "kernelspec": {
   "display_name": "Python 3",
   "language": "python",
   "name": "python3"
  },
  "language_info": {
   "codemirror_mode": {
    "name": "ipython",
    "version": 3
   },
   "file_extension": ".py",
   "mimetype": "text/x-python",
   "name": "python",
   "nbconvert_exporter": "python",
   "pygments_lexer": "ipython3",
   "version": "3.13.3"
  }
 },
 "nbformat": 4,
 "nbformat_minor": 5
}
