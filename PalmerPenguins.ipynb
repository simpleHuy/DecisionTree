{
 "cells": [
  {
   "cell_type": "markdown",
   "id": "c7b6ae85",
   "metadata": {},
   "source": [
    "1. Set up libraries and load data"
   ]
  },
  {
   "cell_type": "markdown",
   "id": "a9525d1f",
   "metadata": {},
   "source": [
    "1.1 import libraries"
   ]
  },
  {
   "cell_type": "code",
   "execution_count": 1,
   "id": "2b57748e",
   "metadata": {},
   "outputs": [],
   "source": [
    "import seaborn as sns              # Data visualization library, supports beautiful plotting\n",
    "import matplotlib.pyplot as plt    # Basic plotting library in Python\n",
    "from sklearn.model_selection import train_test_split  # Function to split data into train/test sets\n",
    "from sklearn.preprocessing import OneHotEncoder       # Encode categorical variables as numbers (one-hot)\n",
    "from sklearn.compose import ColumnTransformer         # Utility to process multiple variable types (numeric, categorical) at once\n",
    "from sklearn.pipeline import Pipeline                 # Build a pipeline of sequential processing steps\n",
    "from sklearn.tree import DecisionTreeClassifier, plot_tree  # Decision tree model and tree plotting function\n",
    "from sklearn.metrics import classification_report, confusion_matrix, accuracy_score  # Model evaluation functions\n",
    "from pathlib import Path                             # Manage file/folder paths in the file system"
   ]
  },
  {
   "cell_type": "markdown",
   "id": "01b19dfd",
   "metadata": {},
   "source": [
    "1.2 Load the dataset"
   ]
  },
  {
   "cell_type": "code",
   "execution_count": 2,
   "id": "ccad9e12",
   "metadata": {},
   "outputs": [],
   "source": [
    "penguins = sns.load_dataset(\"penguins\")      # 344 mẫu – 3 lớp\n",
    "penguins.dropna(inplace=True)                # bỏ 2 % dòng bị khuyết"
   ]
  },
  {
   "cell_type": "markdown",
   "id": "399faee1",
   "metadata": {},
   "source": [
    "II. Preparing the datasets"
   ]
  },
  {
   "cell_type": "markdown",
   "id": "3ee60517",
   "metadata": {},
   "source": [
    "2.1 Identify features & labels"
   ]
  },
  {
   "cell_type": "code",
   "execution_count": 3,
   "id": "bf13cd67",
   "metadata": {},
   "outputs": [],
   "source": [
    "features = ['island', 'bill_length_mm','bill_depth_mm','flipper_length_mm','body_mass_g','sex']\n",
    "X = penguins[features]\n",
    "y = penguins['species']                      # Adelie, Chinstrap, Gentoo"
   ]
  },
  {
   "cell_type": "markdown",
   "id": "2efaba66",
   "metadata": {},
   "source": [
    "2.2 One-hot encoding for the variable sex and island (categorical)"
   ]
  },
  {
   "cell_type": "code",
   "execution_count": 4,
   "id": "463ee9e3",
   "metadata": {},
   "outputs": [],
   "source": [
    "categorical = ['sex', 'island']\n",
    "numeric = list(set(features) - set(categorical))\n",
    "preprocess = ColumnTransformer(\n",
    "      [(\"cat\", OneHotEncoder(), categorical),\n",
    "       (\"num\", \"passthrough\", numeric)]\n",
    ")"
   ]
  },
  {
   "cell_type": "markdown",
   "id": "7abfcce9",
   "metadata": {},
   "source": [
    "2.3 Create 4 train/test pairs with ratios 40/60, 60/40, 80/20, 90/10, then shuffle and stratify"
   ]
  },
  {
   "cell_type": "code",
   "execution_count": 5,
   "id": "37f10d63",
   "metadata": {},
   "outputs": [],
   "source": [
    "splits = {}\n",
    "for train_size in [0.4, 0.6, 0.8, 0.9]:\n",
    "    X_tr, X_te, y_tr, y_te = train_test_split(\n",
    "        X, y, train_size=train_size, stratify=y, random_state=42, shuffle=True)\n",
    "    key = f\"{round(train_size*100)}/{round((1-train_size)*100)}\"\n",
    "    splits[key] = (X_tr, X_te, y_tr, y_te)"
   ]
  },
  {
   "cell_type": "markdown",
   "id": "f91d1458",
   "metadata": {},
   "source": [
    "2.4 Display class distribution"
   ]
  },
  {
   "cell_type": "code",
   "execution_count": null,
   "id": "e42d06e9",
   "metadata": {},
   "outputs": [],
   "source": [
    "for name,(X_tr, X_te, y_tr, y_te) in splits.items():\n",
    "    plt.figure(figsize=(3,2))\n",
    "    sns.countplot(x=y_tr, order=y.value_counts().index)\n",
    "    plt.title(f\"Train {name} – class distribution\")\n",
    "    plt.show()"
   ]
  },
  {
   "cell_type": "markdown",
   "id": "39a7a460",
   "metadata": {},
   "source": [
    "3. Training & Visualizing Decision Tree (Building the classifiers)"
   ]
  },
  {
   "cell_type": "code",
   "execution_count": null,
   "id": "f40ad7cd",
   "metadata": {},
   "outputs": [],
   "source": [
    "Path(\"figures\").mkdir(exist_ok=True)    # create root folder\n",
    "\n",
    "for name, (X_tr, X_te, y_tr, y_te) in splits.items():\n",
    "    clf = Pipeline([\n",
    "        (\"prep\", preprocess),\n",
    "        (\"dt\",  DecisionTreeClassifier(criterion=\"entropy\", random_state=42))\n",
    "    ]).fit(X_tr, y_tr)\n",
    "\n",
    "    plt.figure(figsize=(16, 10))\n",
    "    plot_tree(\n",
    "        clf.named_steps[\"dt\"],\n",
    "        feature_names=clf.named_steps[\"prep\"].get_feature_names_out(),\n",
    "        class_names=clf.named_steps[\"dt\"].classes_,\n",
    "        filled=True, rounded=True, proportion=True\n",
    "    )\n",
    "    plt.tight_layout()\n",
    "\n",
    "    # --- save image ---\n",
    "    safe_name = name.replace(\"/\", \"-\")              # avoid path error\n",
    "    plt.savefig(f\"figures/tree_penguins_{safe_name}.png\", dpi=300)\n",
    "    plt.close()\n",
    "\n",
    "print(\"✅ Decision trees have been saved to the figures folder\")\n"
   ]
  },
  {
   "cell_type": "markdown",
   "id": "612fdfe1",
   "metadata": {},
   "source": [
    "4. Model Evaluation (Evaluating the classifiers)"
   ]
  },
  {
   "cell_type": "code",
   "execution_count": null,
   "id": "ea9a7325",
   "metadata": {},
   "outputs": [],
   "source": [
    "from sklearn.metrics import ConfusionMatrixDisplay\n",
    "\n",
    "# Train and store models for each split\n",
    "models = {}\n",
    "for name, (X_tr, X_te, y_tr, y_te) in splits.items():\n",
    "    clf = Pipeline([\n",
    "        (\"prep\", preprocess),\n",
    "        (\"dt\", DecisionTreeClassifier(criterion=\"entropy\", random_state=42))\n",
    "    ]).fit(X_tr, y_tr)\n",
    "    models[name] = (clf, X_te, y_te)\n",
    "\n",
    "import matplotlib.pyplot as plt\n",
    "\n",
    "for name, (clf, X_te, y_te) in models.items():\n",
    "    # 1) In báo cáo\n",
    "    y_pred = clf.predict(X_te)\n",
    "    print(f\"\\n### {name} split ###\")\n",
    "    print(classification_report(y_te, y_pred, digits=3))\n",
    "\n",
    "    # 2) Tính ma trận nhầm lẫn (số)\n",
    "    cm = confusion_matrix(y_te, y_pred)\n",
    "\n",
    "    # 3) Vẽ heat-map confusion matrix\n",
    "    disp = ConfusionMatrixDisplay(confusion_matrix=cm,\n",
    "                                  display_labels=clf.classes_)\n",
    "    fig, ax = plt.subplots(figsize=(5,5))\n",
    "    disp.plot(ax=ax, cmap=\"Blues\", values_format=\"d\")\n",
    "    ax.set_title(f\"Confusion Matrix ({name})\")\n",
    "    ax.set_xlabel(\"Predicted Label\")\n",
    "    ax.set_ylabel(\"True Label\")\n",
    "    plt.show()\n"
   ]
  },
  {
   "cell_type": "markdown",
   "id": "86b7e983",
   "metadata": {},
   "source": [
    "5. Effect of Tree Depth (Depth vs Accuracy – 80/20)"
   ]
  },
  {
   "cell_type": "code",
   "execution_count": null,
   "id": "e9927b5d",
   "metadata": {},
   "outputs": [],
   "source": [
    "# ❶ Get the correct 80/20 split\n",
    "X_tr, X_te, y_tr, y_te = splits[\"80/20\"]\n",
    "\n",
    "# ❷ Try different max_depth values\n",
    "depths = [None, 2, 3, 4, 5, 6, 7]\n",
    "acc = []\n",
    "\n",
    "# ❸ Create a folder to save images\n",
    "Path(\"fig_depth\").mkdir(exist_ok=True)\n",
    "\n",
    "for d in depths:\n",
    "    clf = Pipeline([\n",
    "        (\"prep\", preprocess),\n",
    "        (\"dt\",  DecisionTreeClassifier(\n",
    "                    criterion=\"entropy\",\n",
    "                    max_depth=d,\n",
    "                    random_state=42))\n",
    "    ]).fit(X_tr, y_tr)\n",
    "\n",
    "    # Accuracy\n",
    "    y_pred = clf.predict(X_te)\n",
    "    acc.append(accuracy_score(y_te, y_pred))\n",
    "\n",
    "    # Plot the tree using matplotlib\n",
    "    plt.figure(figsize=(16, 10))\n",
    "    plot_tree(\n",
    "        clf.named_steps[\"dt\"],\n",
    "        feature_names=clf.named_steps[\"prep\"].get_feature_names_out(),\n",
    "        class_names=clf.named_steps[\"dt\"].classes_,\n",
    "        filled=True, rounded=True, proportion=True\n",
    "    )\n",
    "    plt.tight_layout()\n",
    "\n",
    "    depth_tag = d if d is not None else \"None\"\n",
    "    plt.savefig(f\"fig_depth/tree_depth_{depth_tag}.png\", dpi=300)\n",
    "    plt.close()\n",
    "\n",
    "print(\"✅ Saved tree images to the fig_depth/ folder\")\n",
    "\n",
    "# ❹ Plot depth vs Accuracy chart\n",
    "plt.figure(figsize=(6,4))\n",
    "plt.plot([0 if d is None else d for d in depths], acc, marker=\"o\")\n",
    "plt.xticks([0]+depths[1:])\n",
    "plt.xlabel(\"max_depth (0 ≜ None)\")\n",
    "plt.ylabel(\"Accuracy\")\n",
    "plt.title(\"Effect of Decision Tree Depth – 80/20 split\")\n",
    "plt.grid(True)\n",
    "plt.savefig(\"fig_depth/depth_vs_accuracy.png\", dpi=300)\n",
    "plt.show()"
   ]
  }
 ],
 "metadata": {
  "kernelspec": {
   "display_name": "Python 3",
   "language": "python",
   "name": "python3"
  },
  "language_info": {
   "codemirror_mode": {
    "name": "ipython",
    "version": 3
   },
   "file_extension": ".py",
   "mimetype": "text/x-python",
   "name": "python",
   "nbconvert_exporter": "python",
   "pygments_lexer": "ipython3",
   "version": "3.13.3"
  }
 },
 "nbformat": 4,
 "nbformat_minor": 5
}
