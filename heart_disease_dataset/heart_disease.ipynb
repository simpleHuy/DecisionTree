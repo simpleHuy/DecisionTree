{
 "cells": [
  {
   "cell_type": "markdown",
   "id": "13a1e14c",
   "metadata": {},
   "source": [
    "### **1. Chuẩn bị tập dữ liệu**"
   ]
  },
  {
   "cell_type": "markdown",
   "id": "adae6882",
   "metadata": {},
   "source": [
    "#### 1.1 Import thư viện"
   ]
  },
  {
   "cell_type": "code",
   "execution_count": 33,
   "id": "1f3a875a",
   "metadata": {},
   "outputs": [],
   "source": [
    "import pandas as pd\n",
    "import numpy as np\n",
    "from collections import Counter\n",
    "from sklearn.tree import DecisionTreeClassifier, export_graphviz\n",
    "from sklearn.model_selection import train_test_split\n",
    "import graphviz\n",
    "import matplotlib.pyplot as plt\n",
    "import seaborn as sns\n",
    "from ucimlrepo import fetch_ucirepo\n",
    "from IPython.display import Image, display\n",
    "from sklearn.metrics import accuracy_score, classification_report, confusion_matrix\n",
    "import os"
   ]
  },
  {
   "cell_type": "markdown",
   "id": "1eca2d51",
   "metadata": {},
   "source": [
    "#### 1.2 Xử lý dữ liệu"
   ]
  },
  {
   "cell_type": "code",
   "execution_count": null,
   "id": "90f08113",
   "metadata": {},
   "outputs": [],
   "source": [
    "# Tải dữ liệu UCI Heart Disease từ ucimlrepo\n",
    "heart_disease = fetch_ucirepo(id=45)\n",
    "X = heart_disease.data.features\n",
    "y = heart_disease.data.targets.squeeze()  # Loại bỏ cột đơn nếu tồn tại\n",
    "\n",
    "# Kết hợp lại thành một DataFrame đầy đủ\n",
    "df = pd.concat([X, y.rename(\"target\")], axis=1)\n",
    "\n",
    "# Lưu ra file CSV\n",
    "df.to_csv(\"heart_disease.csv\", index=False)\n",
    "\n",
    "print(\"Đã lưu dữ liệu thành file heart_disease.csv\")\n",
    "# Chuyển y thành nhị phân: 0 = không bệnh, 1 = có bệnh\n",
    "y_binary = y.copy()\n",
    "y_binary[y_binary > 0] = 1\n",
    "\n",
    "df_binary = df.copy()\n",
    "df_binary['target'] = y_binary\n",
    "display(df_binary)"
   ]
  },
  {
   "cell_type": "markdown",
   "id": "99b8806f",
   "metadata": {},
   "source": [
    "#### 1.3 Chia dữ liệu"
   ]
  },
  {
   "cell_type": "code",
   "execution_count": 35,
   "id": "26a82e31",
   "metadata": {},
   "outputs": [],
   "source": [
    "def stratified_split(X, y, train_size, random_state=42):\n",
    "    \"\"\"\n",
    "    Chia dữ liệu theo kiểu phân tầng.\n",
    "    \n",
    "    Parameters:\n",
    "    - X: Dữ liệu đầu vào (features)\n",
    "    - y: Nhãn (labels)\n",
    "    - test_size: Tỷ lệ dữ liệu test\n",
    "    - random_state: Giá trị seed để tái tạo\n",
    "    \n",
    "    Returns:\n",
    "    - feature_train, feature_test, label_train, label_test: Dữ liệu sau khi chia\n",
    "    \"\"\"\n",
    "    test_size = 1 - train_size\n",
    "    X_train, X_test, y_train, y_test = train_test_split(\n",
    "        X, y, test_size=test_size, stratify=y, random_state=random_state\n",
    "    )\n",
    "    return X_train, X_test, y_train, y_test"
   ]
  },
  {
   "cell_type": "code",
   "execution_count": 36,
   "id": "ead57005",
   "metadata": {},
   "outputs": [],
   "source": [
    "def visualize_train_test_distribution(y, y_train, y_test, train_size):\n",
    "    fig, axes = plt.subplots(1, 3, figsize=(15, 7), sharey=True)\n",
    "    \n",
    "    label = [0, 1]\n",
    "    \n",
    "    for ax in axes:\n",
    "        ax.set_xticks([0, 1])  # Chỉ hiển thị 0 và 1 trên trục x\n",
    "        ax.set_xlim(-0.5, 1.5)  # Giữ khoảng trục x cố định\n",
    "    \n",
    "    # Phân phối gốc\n",
    "    original_counts = [Counter(y)[ele] for ele in label]\n",
    "    axes[0].bar(label, original_counts)\n",
    "    axes[0].set_title('Original Dataset')\n",
    "    axes[0].set_ylabel('Count')\n",
    "    for i, count in enumerate(original_counts):\n",
    "        axes[0].text(i, count + 1, str(count), ha='center', va='bottom', fontsize=15)\n",
    "\n",
    "    # Phân phối tập train\n",
    "    train_counts = [Counter(y_train)[ele] for ele in label]\n",
    "    axes[1].bar(label, train_counts)\n",
    "    axes[1].set_title(f'Training Set ({int(round(train_size, 2)* 100)}%)')\n",
    "    for i, count in enumerate(train_counts):\n",
    "        axes[1].text(i, count + 1, str(count), ha='center', va='bottom', fontsize=15)\n",
    "\n",
    "    # Phân phối tập test\n",
    "    test_counts = [Counter(y_test)[ele] for ele in label]\n",
    "    axes[2].bar(label, test_counts)\n",
    "    axes[2].set_title(f'Test Set ({int(round((1 - train_size), 2) * 100)}%)')\n",
    "    for i, count in enumerate(test_counts):\n",
    "        axes[2].text(i, count + 1, str(count), ha='center', va='bottom', fontsize=15)\n",
    "\n",
    "    plt.tight_layout()\n",
    "    os.makedirs('./output/split', exist_ok=True)\n",
    "    plt.savefig(f'./output/split/train_test_{int(train_size*100)}_{int(round(1 - train_size, 2) * 100)}.png', format='png', bbox_inches='tight')\n",
    "    plt.show()\n"
   ]
  },
  {
   "cell_type": "markdown",
   "id": "90d25ff7",
   "metadata": {},
   "source": [
    "##### Visualize Data sau khi chia tỷ lệ"
   ]
  },
  {
   "cell_type": "code",
   "execution_count": null,
   "id": "73298cb7",
   "metadata": {},
   "outputs": [],
   "source": [
    "ratios = [0.4, 0.6, 0.8, 0.9]\n",
    "\n",
    "split_train_test = {}  # Dùng để lưu các tập sau khi chia\n",
    "for train_size in ratios:\n",
    "    feature_train, feature_test, label_train, label_test = stratified_split(X,y_binary, train_size, random_state=42)\n",
    "    visualize_train_test_distribution(y_binary, label_train, label_test, train_size)\n",
    "    split_train_test[train_size] = {\n",
    "        'feature_train': feature_train,\n",
    "        'label_train': label_train,\n",
    "        'feature_test': feature_test,\n",
    "        'label_test': label_test\n",
    "    }"
   ]
  },
  {
   "cell_type": "markdown",
   "id": "a16e1f3d",
   "metadata": {},
   "source": [
    "### **2. Xây dựng Decision Tree**"
   ]
  },
  {
   "cell_type": "code",
   "execution_count": null,
   "id": "186e30d3",
   "metadata": {},
   "outputs": [],
   "source": [
    "# ratios = [0.4, 0.6, 0.8, 0.9]\n",
    "y_trains, y_tests = [], []\n",
    "\n",
    "for ratio in ratios:\n",
    "    X_train, X_test, y_train, y_test = train_test_split(\n",
    "        X, y_binary, train_size=ratio, stratify=y_binary, shuffle=True, random_state=42)\n",
    "\n",
    "    y_trains.append(y_train)\n",
    "    y_tests.append(y_test)\n",
    "\n",
    "    # Huấn luyện cây quyết định\n",
    "    clf = DecisionTreeClassifier(criterion='entropy', random_state=42)\n",
    "    clf.fit(X_train, y_train)\n",
    "\n",
    "    # Trực quan hóa cây\n",
    "    dot_data = export_graphviz(clf, out_file=None,\n",
    "                                feature_names=X.columns,\n",
    "                                class_names=['No HD', 'HD'],\n",
    "                                filled=True, rounded=True,\n",
    "                                special_characters=True)\n",
    "    graph = graphviz.Source(dot_data)\n",
    "    graph.render(f\"./output/decision_tree_{int(ratio*100)}\", format='png', cleanup=True)\n",
    "    display(Image(f\"./output/decision_tree_{int(ratio*100)}.png\"))\n"
   ]
  },
  {
   "cell_type": "markdown",
   "id": "d12ebdbb",
   "metadata": {},
   "source": [
    "### **3. Đánh giá cây quyết định**"
   ]
  },
  {
   "cell_type": "code",
   "execution_count": null,
   "id": "1c69e763",
   "metadata": {},
   "outputs": [],
   "source": [
    "for ratio in ratios:\n",
    "    # Chia lại dữ liệu với y_binary (phân lớp nhị phân)\n",
    "    X_train, X_test, y_train, y_test = train_test_split(\n",
    "        X, y_binary, train_size=ratio, stratify=y_binary, shuffle=True, random_state=42)\n",
    "\n",
    "    # Huấn luyện mô hình cây quyết định\n",
    "    clf = DecisionTreeClassifier(criterion='entropy', random_state=42)\n",
    "    clf.fit(X_train, y_train)\n",
    "\n",
    "    # Dự đoán trên tập test\n",
    "    y_pred = clf.predict(X_test)\n",
    "\n",
    "    # In báo cáo phân loại\n",
    "    print(f\"\\n==== Classification Report (Train/Test = {round(ratio*100)}/{round((1-ratio)*100)}) ====\")\n",
    "    print(classification_report(y_test, y_pred, target_names=['No HD', 'HD']))\n",
    "\n",
    "    # Tính ma trận nhầm lẫn\n",
    "    cm = confusion_matrix(y_test, y_pred)\n",
    "\n",
    "    # Vẽ ma trận nhầm lẫn\n",
    "    plt.figure(figsize=(5,4))\n",
    "    sns.heatmap(cm, annot=True, fmt='d', cmap='Blues',\n",
    "                xticklabels=['No HD', 'HD'], yticklabels=['No HD', 'HD'])\n",
    "    plt.xlabel('Predicted')\n",
    "    plt.ylabel('Actual')\n",
    "    plt.title(f'Confusion Matrix (Train/Test = {round(ratio*100)}/{round((1-ratio)*100)})')\n",
    "    plt.tight_layout()\n",
    "    plt.show()"
   ]
  },
  {
   "cell_type": "markdown",
   "id": "365c778e",
   "metadata": {},
   "source": [
    "### **4 Độ sâu và độ chính xác của cây quyết định**"
   ]
  },
  {
   "cell_type": "code",
   "execution_count": null,
   "id": "3b986212",
   "metadata": {},
   "outputs": [],
   "source": [
    "# Chia dữ liệu 80/20 với y_binary\n",
    "X_train, X_test, y_train, y_test = train_test_split(\n",
    "    X, y_binary, train_size=0.8, stratify=y_binary, shuffle=True, random_state=42)\n",
    "\n",
    "max_depth_values = [None, 2, 3, 4, 5, 6, 7]\n",
    "accuracies = []\n",
    "\n",
    "for depth in max_depth_values:\n",
    "    clf = DecisionTreeClassifier(criterion='entropy', max_depth=depth, random_state=42)\n",
    "    clf.fit(X_train, y_train)\n",
    "\n",
    "    y_pred = clf.predict(X_test)\n",
    "    acc = accuracy_score(y_test, y_pred)\n",
    "    accuracies.append(acc)\n",
    "\n",
    "    # Trực quan hóa cây\n",
    "    dot_data = export_graphviz(clf, out_file=None,\n",
    "                               feature_names=X.columns,\n",
    "                               class_names=['No HD', 'HD'],\n",
    "                               filled=True, rounded=True,\n",
    "                               special_characters=True)\n",
    "    graph = graphviz.Source(dot_data)\n",
    "    depth_label = \"full\" if depth is None else str(depth)\n",
    "    graph.render(f\"./output/decision_tree_maxdepth_{depth_label}\", format='png', cleanup=True)\n",
    "    display(Image(f\"./output/decision_tree_maxdepth_{depth_label}.png\"))\n"
   ]
  },
  {
   "cell_type": "markdown",
   "id": "07e572ac",
   "metadata": {},
   "source": [
    "#### Bảng đánh giá và biểu đồ"
   ]
  },
  {
   "cell_type": "code",
   "execution_count": null,
   "id": "d8e3f0d3",
   "metadata": {},
   "outputs": [],
   "source": [
    "# In bảng accuracy\n",
    "print(\"\\nAccuracy scores for different max_depth values:\")\n",
    "print(\"Max Depth\\tAccuracy\")\n",
    "for depth, acc in zip(max_depth_values, accuracies):\n",
    "    label = \"Full Tree\" if depth is None else str(depth)\n",
    "    print(f\"{label:<10}\\t{acc * 100:.2f}%\") \n",
    "\n",
    "# Vẽ biểu đồ\n",
    "labels = ['Full' if d is None else str(d) for d in max_depth_values]\n",
    "\n",
    "plt.figure(figsize=(8, 5))\n",
    "# Chuyển accuracies sang phần trăm\n",
    "accuracies_percent = [acc * 100 for acc in accuracies]\n",
    "plt.plot(labels, accuracies_percent, marker='o', linestyle='-', color='blue')\n",
    "plt.ylabel(\"Accuracy on Test Set (%)\")\n",
    "plt.xlabel(\"Max Depth\")\n",
    "plt.ylabel(\"Accuracy on Test Set\")\n",
    "plt.grid(True)\n",
    "plt.tight_layout()\n",
    "plt.show()"
   ]
  }
 ],
 "metadata": {
  "kernelspec": {
   "display_name": "Python 3",
   "language": "python",
   "name": "python3"
  },
  "language_info": {
   "codemirror_mode": {
    "name": "ipython",
    "version": 3
   },
   "file_extension": ".py",
   "mimetype": "text/x-python",
   "name": "python",
   "nbconvert_exporter": "python",
   "pygments_lexer": "ipython3",
   "version": "3.13.3"
  }
 },
 "nbformat": 4,
 "nbformat_minor": 5
}
