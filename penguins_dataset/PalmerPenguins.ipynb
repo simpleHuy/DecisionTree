{
 "cells": [
  {
   "cell_type": "markdown",
   "id": "c7b6ae85",
   "metadata": {},
   "source": [
    "### **1. Set up libraries and load data**"
   ]
  },
  {
   "cell_type": "markdown",
   "id": "a9525d1f",
   "metadata": {},
   "source": [
    "#### 1.1 import libraries"
   ]
  },
  {
   "cell_type": "code",
   "execution_count": null,
   "id": "2b57748e",
   "metadata": {},
   "outputs": [],
   "source": [
    "import seaborn as sns              \n",
    "import matplotlib.pyplot as plt    \n",
    "from sklearn.model_selection import train_test_split  \n",
    "from sklearn.preprocessing import OneHotEncoder       \n",
    "from sklearn.compose import ColumnTransformer        \n",
    "from sklearn.pipeline import Pipeline                 \n",
    "from sklearn.tree import DecisionTreeClassifier, plot_tree  \n",
    "from sklearn.metrics import classification_report, confusion_matrix, accuracy_score  \n",
    "from pathlib import Path     \n",
    "from IPython.display import Image, display\n",
    "from collections import Counter\n",
    "import os                        "
   ]
  },
  {
   "cell_type": "markdown",
   "id": "01b19dfd",
   "metadata": {},
   "source": [
    "#### 1.2 Load the dataset"
   ]
  },
  {
   "cell_type": "code",
   "execution_count": null,
   "id": "ccad9e12",
   "metadata": {},
   "outputs": [],
   "source": [
    "import pandas as pd\n",
    "penguins = sns.load_dataset(\"penguins\")    \n",
    "penguins.dropna(inplace=True)\n",
    "display(penguins)              "
   ]
  },
  {
   "cell_type": "markdown",
   "id": "399faee1",
   "metadata": {},
   "source": [
    "### **2. Preparing the datasets**"
   ]
  },
  {
   "cell_type": "markdown",
   "id": "3ee60517",
   "metadata": {},
   "source": [
    "#### 2.1 Identify features & labels"
   ]
  },
  {
   "cell_type": "code",
   "execution_count": null,
   "id": "bf13cd67",
   "metadata": {},
   "outputs": [],
   "source": [
    "features = ['island','bill_length_mm','bill_depth_mm','flipper_length_mm','body_mass_g','sex']\n",
    "X = penguins[features]\n",
    "y = penguins['species'] # Adelie, Chinstrap, Gentoo"
   ]
  },
  {
   "cell_type": "markdown",
   "id": "2efaba66",
   "metadata": {},
   "source": [
    "#### 2.2 One-hot encoding for the variable sex and island (categorical)"
   ]
  },
  {
   "cell_type": "code",
   "execution_count": null,
   "id": "463ee9e3",
   "metadata": {},
   "outputs": [],
   "source": [
    "categorical = ['sex', 'island']\n",
    "numeric     = list(set(features) - set(categorical))\n",
    "preprocess  = ColumnTransformer(\n",
    "      [(\"cat\", OneHotEncoder(), categorical),\n",
    "       (\"num\", \"passthrough\", numeric)]\n",
    ")"
   ]
  },
  {
   "cell_type": "markdown",
   "id": "7abfcce9",
   "metadata": {},
   "source": [
    "#### 2.3 Create 4 train/test pairs with ratios 40/60, 60/40, 80/20, 90/10, then shuffle and stratify"
   ]
  },
  {
   "cell_type": "code",
   "execution_count": null,
   "id": "daa27c69",
   "metadata": {},
   "outputs": [],
   "source": [
    "def stratified_split(X, y, train_size, random_state=42):\n",
    "    \"\"\"\n",
    "    Chia dữ liệu theo kiểu phân tầng.\n",
    "    \n",
    "    Parameters:\n",
    "    - X: Dữ liệu đầu vào (features)\n",
    "    - y: Nhãn (labels)\n",
    "    - test_size: Tỷ lệ dữ liệu test\n",
    "    - random_state: Giá trị seed để tái tạo\n",
    "    \n",
    "    Returns:\n",
    "    - feature_train, feature_test, label_train, label_test: Dữ liệu sau khi chia\n",
    "    \"\"\"\n",
    "    test_size = 1 - train_size\n",
    "    X_train, X_test, y_train, y_test = train_test_split(\n",
    "        X, y, test_size=test_size, stratify=y, random_state=random_state\n",
    "    )\n",
    "    return X_train, X_test, y_train, y_test"
   ]
  },
  {
   "cell_type": "markdown",
   "id": "f91d1458",
   "metadata": {},
   "source": [
    "#### 2.4 Display class distribution"
   ]
  },
  {
   "cell_type": "code",
   "execution_count": null,
   "id": "42b95193",
   "metadata": {},
   "outputs": [],
   "source": [
    "def visualize_train_test_distribution(y, y_train, y_test, train_size):\n",
    "    fig, axes = plt.subplots(1, 3, figsize=(15, 7), sharey=True)\n",
    "    \n",
    "    classes = [ 'Adelie', 'Chinstrap', 'Gentoo']\n",
    "    \n",
    "    # Phân phối gốc\n",
    "    original_counts = [Counter(y)[ele] for ele in classes]\n",
    "    axes[0].bar(classes, original_counts)\n",
    "    axes[0].set_title('Original Dataset')\n",
    "    axes[0].set_ylabel('Count')\n",
    "    for i, count in enumerate(original_counts):\n",
    "        axes[0].text(i, count + 1, str(count), ha='center', va='bottom', fontsize=15)\n",
    "\n",
    "    # Phân phối tập train\n",
    "    train_counts = [Counter(y_train)[ele] for ele in classes]\n",
    "    axes[1].bar(classes, train_counts)\n",
    "    axes[1].set_title(f'Training Set ({int(round(train_size, 2)* 100)}%)')\n",
    "    for i, count in enumerate(train_counts):\n",
    "        axes[1].text(i, count + 1, str(count), ha='center', va='bottom', fontsize=15)\n",
    "\n",
    "    # Phân phối tập test\n",
    "    test_counts = [Counter(y_test)[ele] for ele in classes]\n",
    "    axes[2].bar(classes, test_counts)\n",
    "    axes[2].set_title(f'Test Set ({int(round((1 - train_size), 2) * 100)}%)')\n",
    "    for i, count in enumerate(test_counts):\n",
    "        axes[2].text(i, count + 1, str(count), ha='center', va='bottom', fontsize=15)\n",
    "\n",
    "    plt.tight_layout()\n",
    "    os.makedirs('./output/split', exist_ok=True)\n",
    "    plt.savefig(f'./output/split/train_test_{int(train_size*100)}_{int(round(1 - train_size, 2) * 100)}.png', format='png', bbox_inches='tight')\n",
    "    plt.show()"
   ]
  },
  {
   "cell_type": "code",
   "execution_count": null,
   "id": "e34c114c",
   "metadata": {},
   "outputs": [],
   "source": [
    "splits = {}  # Dùng để lưu các tập sau khi chia\n",
    "proportions =  [0.4, 0.6, 0.8, 0.9]\n",
    "for train_size in proportions:\n",
    "    feature_train, feature_test, label_train, label_test = stratified_split(X, y, train_size, random_state=42)\n",
    "    visualize_train_test_distribution(y, label_train, label_test, train_size)\n",
    "    train_percent = int(train_size * 100)\n",
    "    test_percent = 100 - train_percent\n",
    "    name = f\"{train_percent}/{test_percent}\"\n",
    "    splits[name] = (feature_train, feature_test, label_train, label_test)\n"
   ]
  },
  {
   "cell_type": "markdown",
   "id": "39a7a460",
   "metadata": {},
   "source": [
    "### **3. Training & Visualizing Decision Tree (Building the classifiers)**"
   ]
  },
  {
   "cell_type": "code",
   "execution_count": null,
   "id": "f40ad7cd",
   "metadata": {},
   "outputs": [],
   "source": [
    "Path(\"figures\").mkdir(exist_ok=True)    # create root folder\n",
    "\n",
    "for name, (X_tr, X_te, y_tr, y_te) in splits.items():\n",
    "    clf = Pipeline([\n",
    "        (\"prep\", preprocess),\n",
    "        (\"dt\",  DecisionTreeClassifier(criterion=\"gini\", random_state=42))\n",
    "    ]).fit(X_tr, y_tr)\n",
    "\n",
    "    plt.figure(figsize=(16, 10))\n",
    "    plot_tree(\n",
    "        clf.named_steps[\"dt\"],\n",
    "        feature_names=clf.named_steps[\"prep\"].get_feature_names_out(),\n",
    "        class_names=clf.named_steps[\"dt\"].classes_,\n",
    "        filled=True, rounded=True, proportion=True\n",
    "    )\n",
    "    plt.tight_layout()\n",
    "\n",
    "    # --- save image ---\n",
    "    safe_name = str(name).replace(\"/\", \"-\")              # avoid path error\n",
    "    plt.savefig(f\"figures/tree_penguins_{safe_name}.png\", dpi=300)\n",
    "    print(f\"\\n--- Train/Test Split: {safe_name} ---\")\n",
    "    display(Image(f\"figures/tree_penguins_{safe_name}.png\"))\n",
    "    plt.close()"
   ]
  },
  {
   "cell_type": "markdown",
   "id": "612fdfe1",
   "metadata": {},
   "source": [
    "### **4. Model Evaluation (Evaluating the classifiers)**"
   ]
  },
  {
   "cell_type": "code",
   "execution_count": null,
   "id": "ea9a7325",
   "metadata": {},
   "outputs": [],
   "source": [
    "from sklearn.metrics import ConfusionMatrixDisplay\n",
    "\n",
    "# Train and store models for each split\n",
    "models = {}\n",
    "for name, (X_tr, X_te, y_tr, y_te) in splits.items():\n",
    "    clf = Pipeline([\n",
    "        (\"prep\", preprocess),\n",
    "        (\"dt\", DecisionTreeClassifier(criterion=\"entropy\", random_state=42))\n",
    "    ]).fit(X_tr, y_tr)\n",
    "    models[name] = (clf, X_te, y_te)\n",
    "\n",
    "import matplotlib.pyplot as plt\n",
    "\n",
    "for name, (clf, X_te, y_te) in models.items():\n",
    "    # 1) In báo cáo\n",
    "    y_pred = clf.predict(X_te)\n",
    "    print(f\"\\n### {name} split ###\")\n",
    "    print(classification_report(y_te, y_pred, digits=3))\n",
    "\n",
    "    # 2) Tính ma trận nhầm lẫn (số)\n",
    "    cm = confusion_matrix(y_te, y_pred)\n",
    "\n",
    "    # 3) Vẽ heat-map confusion matrix\n",
    "    disp = ConfusionMatrixDisplay(confusion_matrix=cm,\n",
    "                                  display_labels=clf.classes_)\n",
    "    fig, ax = plt.subplots(figsize=(5,5))\n",
    "    disp.plot(ax=ax, cmap=\"Blues\", values_format=\"d\")\n",
    "    ax.set_title(f\"Confusion Matrix ({name})\")\n",
    "    ax.set_xlabel(\"Predicted Label\")\n",
    "    ax.set_ylabel(\"True Label\")\n",
    "    plt.show()"
   ]
  },
  {
   "cell_type": "markdown",
   "id": "86b7e983",
   "metadata": {},
   "source": [
    "### **5. Effect of Tree Depth (Depth vs Accuracy – 80/20)**"
   ]
  },
  {
   "cell_type": "code",
   "execution_count": null,
   "id": "e9927b5d",
   "metadata": {},
   "outputs": [],
   "source": [
    "# ❶ Get the correct 80/20 split\n",
    "X_tr, X_te, y_tr, y_te = splits[\"80/20\"]\n",
    "\n",
    "# ❷ Try different max_depth values\n",
    "depths = [None, 2, 3, 4, 5, 6, 7]\n",
    "acc = []\n",
    "\n",
    "# ❸ Create a folder to save images\n",
    "Path(\"fig_depth\").mkdir(exist_ok=True)\n",
    "\n",
    "for d in depths:\n",
    "    clf = Pipeline([\n",
    "        (\"prep\", preprocess),\n",
    "        (\"dt\",  DecisionTreeClassifier(\n",
    "                    criterion=\"entropy\",\n",
    "                    max_depth=d,\n",
    "                    random_state=42))\n",
    "    ]).fit(X_tr, y_tr)\n",
    "\n",
    "    # Accuracy\n",
    "    y_pred = clf.predict(X_te)\n",
    "    acc.append(accuracy_score(y_te, y_pred))\n",
    "\n",
    "    # Plot the tree using matplotlib\n",
    "    plt.figure(figsize=(16, 10))\n",
    "    plot_tree(\n",
    "        clf.named_steps[\"dt\"],\n",
    "        feature_names=clf.named_steps[\"prep\"].get_feature_names_out(),\n",
    "        class_names=clf.named_steps[\"dt\"].classes_,\n",
    "        filled=True, rounded=True, proportion=True\n",
    "    )\n",
    "    plt.tight_layout()\n",
    "\n",
    "    depth_tag = d if d is not None else \"None\"\n",
    "    plt.savefig(f\"fig_depth/tree_depth_{depth_tag}.png\", dpi=300)\n",
    "    print(f\"--- tree depth: {depth_tag} ---\")\n",
    "    display(Image(f\"fig_depth/tree_depth_{depth_tag}.png\"))\n",
    "    plt.close()\n",
    "\n",
    "print(acc)\n",
    "\n",
    "# ❹ Plot depth vs Accuracy chart\n",
    "plt.figure(figsize=(6,4))\n",
    "plt.plot([0 if d is None else d for d in depths], acc, marker=\"o\")\n",
    "plt.xticks([0]+depths[1:])\n",
    "plt.xlabel(\"max_depth (0 ≜ None)\")\n",
    "plt.ylabel(\"Accuracy\")\n",
    "plt.title(\"Effect of Decision Tree Depth – 80/20 split\")\n",
    "plt.grid(True)\n",
    "plt.savefig(\"fig_depth/depth_vs_accuracy.png\", dpi=300)\n",
    "plt.show()"
   ]
  }
 ],
 "metadata": {
  "kernelspec": {
   "display_name": "Python 3",
   "language": "python",
   "name": "python3"
  },
  "language_info": {
   "codemirror_mode": {
    "name": "ipython",
    "version": 3
   },
   "file_extension": ".py",
   "mimetype": "text/x-python",
   "name": "python",
   "nbconvert_exporter": "python",
   "pygments_lexer": "ipython3",
   "version": "3.13.3"
  }
 },
 "nbformat": 4,
 "nbformat_minor": 5
}
